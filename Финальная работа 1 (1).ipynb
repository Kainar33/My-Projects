{
 "cells": [
  {
   "cell_type": "markdown",
   "id": "9cf8a057-f4d0-453d-855e-97f43cb043fa",
   "metadata": {},
   "source": [
    "1. Загрузка данных"
   ]
  },
  {
   "cell_type": "code",
   "execution_count": 1,
   "id": "6709ba04-692a-4ad3-b1e8-473296599292",
   "metadata": {},
   "outputs": [],
   "source": [
    "import pandas as pd"
   ]
  },
  {
   "cell_type": "code",
   "execution_count": 2,
   "id": "ce3a6a3c",
   "metadata": {},
   "outputs": [],
   "source": [
    "df = pd.read_csv('merged_data.csv')"
   ]
  },
  {
   "cell_type": "code",
   "execution_count": 3,
   "id": "82988afb",
   "metadata": {},
   "outputs": [
    {
     "name": "stdout",
     "output_type": "stream",
     "text": [
      "         user_id        date  money  cash platform    group  cheaters\n",
      "0  N4TS2T-P7YTVX  15.07.2021   1.99  1150      PS4     test         0\n",
      "1  NX9S0D-VM20W8  16.07.2021   0.99  1500     XBox     test         0\n",
      "2  QYY6FW-FKHRND  15.07.2021   0.00   200     XBox  control         0\n",
      "3  BRWH4Y-LPGBU6  14.07.2021   0.00   300       PC     test         0\n",
      "4  8O317F-4ASK53  13.07.2021   0.00   900       PC  control         0\n",
      "<class 'pandas.core.frame.DataFrame'>\n",
      "RangeIndex: 8637176 entries, 0 to 8637175\n",
      "Data columns (total 7 columns):\n",
      " #   Column    Dtype  \n",
      "---  ------    -----  \n",
      " 0   user_id   object \n",
      " 1   date      object \n",
      " 2   money     float64\n",
      " 3   cash      int64  \n",
      " 4   platform  object \n",
      " 5   group     object \n",
      " 6   cheaters  int64  \n",
      "dtypes: float64(1), int64(2), object(4)\n",
      "memory usage: 461.3+ MB\n",
      "None\n"
     ]
    }
   ],
   "source": [
    "print(df.head())\n",
    "print(df.info())"
   ]
  },
  {
   "cell_type": "markdown",
   "id": "8cad8ade",
   "metadata": {},
   "source": [
    "2. Подсчет метрик ARPU и ARPPU\n",
    "ARPU – это средний доход на одного игрока, включая всех игроков, а ARPPU – средний доход на одного платящего игрока."
   ]
  },
  {
   "cell_type": "code",
   "execution_count": 6,
   "id": "a27c58a7",
   "metadata": {},
   "outputs": [
    {
     "name": "stdout",
     "output_type": "stream",
     "text": [
      "ARPU Group control: 730.7864332352783, ARPU Group test: 784.550599287454\n",
      "ARPPU Group control: 841.519239106713, ARPPU Group test: 897.2997983832499\n"
     ]
    }
   ],
   "source": [
    "# Подсчет ARPU (средняя прибыль на всех игроков)\n",
    "arpu_control = df[df['group'] == 'control']['cash'].mean()\n",
    "arpu_test = df[df['group'] == 'test']['cash'].mean()\n",
    "\n",
    "# Подсчет ARPPU (средняя прибыль на платящего игрока)\n",
    "arppu_control = df[(df['group'] == 'control') & (df['cash'] > 0)]['cash'].mean()\n",
    "arppu_test = df[(df['group'] == 'test') & (df['cash'] > 0)]['cash'].mean()\n",
    "\n",
    "# Вывод метрик на экран\n",
    "print(f\"ARPU Group control: {arpu_control}, ARPU Group test: {arpu_test}\")\n",
    "print(f\"ARPPU Group control: {arppu_control}, ARPPU Group test: {arppu_test}\")"
   ]
  },
  {
   "cell_type": "markdown",
   "id": "6378f223",
   "metadata": {},
   "source": [
    "3. Подсчет доверительных интервалов\n",
    "Для расчета доверительных интервалов будем использовать стандартную ошибку и распределение."
   ]
  },
  {
   "cell_type": "code",
   "execution_count": 7,
   "id": "b1c15c76",
   "metadata": {},
   "outputs": [
    {
     "name": "stdout",
     "output_type": "stream",
     "text": [
      "Confidence Interval for ARPU Group control: (730.0798367066133, 731.4930297639434)\n",
      "Confidence Interval for ARPU Group test: (783.8030309919556, 785.2981675829525)\n",
      "Confidence Interval for ARPPU Group control: (730.0798367066133, 731.4930297639434)\n",
      "Confidence Interval for ARPPU Group test: (783.8030309919556, 785.2981675829525)\n"
     ]
    }
   ],
   "source": [
    "import numpy as np\n",
    "import scipy.stats as stats\n",
    "\n",
    "# Функция для расчета доверительного интервала\n",
    "def calc_conf_interval(data, confidence=0.95):\n",
    "    n = len(data)\n",
    "    mean = np.mean(data)\n",
    "    sem = stats.sem(data)  # стандартная ошибка среднего\n",
    "    margin_of_error = sem * stats.t.ppf((1 + confidence) / 2., n - 1)\n",
    "    return (mean - margin_of_error, mean + margin_of_error)\n",
    "\n",
    "# Доверительные интервалы для ARPU\n",
    "ci_arpu_control = calc_conf_interval(df[df['group'] == 'control']['cash'])\n",
    "ci_arpu_test = calc_conf_interval(df[df['group'] == 'test']['cash'])\n",
    "\n",
    "# Доверительные интервалы для ARPPU\n",
    "ci_arppu_control = calc_conf_interval(df[(df['group'] == 'control') & (df['cash'] > 0)]['cash'])\n",
    "ci_arppu_test = calc_conf_interval(df[(df['group'] == 'test') & (df['cash'] > 0)]['cash'])\n",
    "\n",
    "print(f\"Confidence Interval for ARPU Group control: {ci_arpu_control}\")\n",
    "print(f\"Confidence Interval for ARPU Group test: {ci_arpu_test}\")\n",
    "print(f\"Confidence Interval for ARPPU Group control: {ci_arpu_control}\")\n",
    "print(f\"Confidence Interval for ARPPU Group test: {ci_arpu_test}\")"
   ]
  },
  {
   "cell_type": "markdown",
   "id": "c1f7a9dc",
   "metadata": {},
   "source": [
    "4. Сравнение групп по метрикам\n",
    "Для того чтобы проверить пересекаются ли доверительные интервалы, можно использовать следующую функцию."
   ]
  },
  {
   "cell_type": "code",
   "execution_count": 8,
   "id": "116684a4",
   "metadata": {},
   "outputs": [
    {
     "name": "stdout",
     "output_type": "stream",
     "text": [
      "ARPU intervals overlap: False\n",
      "ARPPU intervals overlap: False\n"
     ]
    }
   ],
   "source": [
    "# Проверка пересечения доверительных интервалов\n",
    "def intervals_overlap(ci1, ci2):\n",
    "    return max(ci1[0], ci2[0]) <= min(ci1[1], ci2[1])\n",
    "\n",
    "# Проверим, пересекаются ли доверительные интервалы\n",
    "overlap_arpu = intervals_overlap(ci_arpu_control, ci_arpu_test)\n",
    "overlap_arppu = intervals_overlap(ci_arpu_control, ci_arpu_test)\n",
    "\n",
    "print(f\"ARPU intervals overlap: {overlap_arpu}\")\n",
    "print(f\"ARPPU intervals overlap: {overlap_arppu}\")"
   ]
  },
  {
   "cell_type": "markdown",
   "id": "9c539404",
   "metadata": {},
   "source": [
    "ARPU intervals overlap: False — доверительные интервалы для ARPU (средняя прибыль на игрока) для тестовой и контрольной групп не пересекаются. Это указывает на то, что различия между группами могут быть статистически значимыми. Иными словами, возможно, что тестовая группа (участвовавшая в акции) имеет существенное отличие по ARPU по сравнению с контрольной группой.\n",
    "\n",
    "ARPPU intervals overlap: False — доверительные интервалы для ARPPU (средняя прибыль на платящего игрока) для тестовой и контрольной групп также не пересекаются. Это может указывать на то, что различия в ARPPU между группами также значительны.\n",
    "\n",
    "Если бы результат был True, это означало бы, что доверительные интервалы пересекаются, и различия между группами могли бы быть случайными.\n",
    "\n",
    "Поскольку интервалы не пересекаются, есть основания полагать, что акция, вероятно, оказала влияние на доходы, и результаты акции не являются случайными. Это может служить основанием для дальнейшего анализа и решения о повторении акции."
   ]
  },
  {
   "cell_type": "markdown",
   "id": "8900e101",
   "metadata": {},
   "source": [
    "5. Визуализация метрик и доверительных интервалов\n",
    "Мы можем построить столбчатые диаграммы с доверительными интервалами для метрик ARPU и ARPPU."
   ]
  },
  {
   "cell_type": "code",
   "execution_count": 15,
   "id": "87235a2d",
   "metadata": {},
   "outputs": [
    {
     "data": {
      "image/png": "[encoded data removed]",
      "text/plain": [
       "<Figure size 1200x600 with 2 Axes>"
      ]
     },
     "metadata": {},
     "output_type": "display_data"
    }
   ],
   "source": [
    "import matplotlib.pyplot as plt\n",
    "\n",
    "# Функция для расчета доверительного интервала\n",
    "def confidence_interval(data, confidence=0.95):\n",
    "    n = len(data)\n",
    "    mean = np.mean(data)\n",
    "    std_err = stats.sem(data)\n",
    "    h = std_err * stats.t.ppf((1 + confidence) / 2., n - 1)\n",
    "    return mean, mean - h, mean + h\n",
    "\n",
    "# Подготовка данных для ARPU и ARPPU для групп\n",
    "arpu_control_data = df[df['group'] == 'test']['cash']  # ARPU для тестовой группы\n",
    "arpu_test_data = df[df['group'] == 'control']['cash']  # ARPU для контрольной группы\n",
    "\n",
    "arppu_control_data = df[(df['group'] == 'test') & (df['cash'] > 0)]['cash']  # ARPPU для тестовой группы\n",
    "arppu_test_data = df[(df['group'] == 'control') & (df['cash'] > 0)]['cash']  # ARPPU для контрольной группы\n",
    "\n",
    "# Вычисление среднего и доверительных интервалов\n",
    "arpu_control, ci_low_arpu_control, ci_high_arpu_control = confidence_interval(arpu_control_data)\n",
    "arpu_test, ci_low_arpu_test, ci_high_arpu_test = confidence_interval(arpu_test_data)\n",
    "\n",
    "arppu_control, ci_low_arppu_control, ci_high_arppu_control = confidence_interval(arppu_control_data)\n",
    "arppu_test, ci_low_arppu_test, ci_high_arppu_test = confidence_interval(arppu_test_data)\n",
    "\n",
    "# Построение графиков\n",
    "fig, ax = plt.subplots(1, 2, figsize=(12, 6))\n",
    "\n",
    "# ARPU график\n",
    "ax[0].bar(['Group test', 'Group control'], [arpu_control, arpu_test], \n",
    "          yerr=[(ci_high_arpu_control-arpu_control, arpu_control-ci_low_arpu_control), (ci_high_arpu_test-arpu_test, arpu_test-ci_low_arpu_test)], \n",
    "          capsize=10, color=['skyblue', 'lightgreen'])\n",
    "ax[0].set_title('ARPU Comparison with 95% CI')\n",
    "ax[0].set_ylabel('ARPU')\n",
    "\n",
    "# ARPPU график\n",
    "ax[1].bar(['Group test', 'Group control'], [arppu_control, arppu_test], \n",
    "          yerr=[(ci_high_arppu_control-arppu_control, arppu_control-ci_low_arppu_control), (ci_high_arppu_test-arppu_test, arppu_test-ci_low_arppu_test)], \n",
    "          capsize=10, color=['orange', 'lightcoral'])\n",
    "ax[1].set_title('ARPPU Comparison with 95% CI')\n",
    "ax[1].set_ylabel('ARPPU')\n",
    "\n",
    "plt.tight_layout()\n",
    "plt.show()"
   ]
  },
  {
   "cell_type": "markdown",
   "id": "f90c8bbd",
   "metadata": {},
   "source": [
    "Анализ и вывод\n",
    "На основе вышеуказанных расчетов и визуализаций можно сделать следующие выводы:\n",
    "\n",
    "Доверительные интервалы не пересекаются, можно сделать вывод, что различия между группами статистически значимы, и акция повлияла на результат."
   ]
  },
  {
   "cell_type": "code",
   "execution_count": 16,
   "id": "bd2ba7ea",
   "metadata": {},
   "outputs": [
    {
     "name": "stdout",
     "output_type": "stream",
     "text": [
      "Тест не достиг порога успеха\n"
     ]
    }
   ],
   "source": [
    "# если поставить порог 10%, то акция не успешен, но в задание не было такого порога по этому это лишнее\n",
    "# Расчет процентного изменения ARPU\n",
    "arpu_control = np.mean(df[df['group'] == 'control']['cash'])\n",
    "arpu_test = np.mean(df[df['group'] == 'test']['cash'])\n",
    "\n",
    "percent_change = ((arpu_test - arpu_control) / arpu_control) * 100\n",
    "success_threshold = 10  # Порог успеха\n",
    "\n",
    "if percent_change >= success_threshold:\n",
    "    print(\"Тест успешен, ARPU вырос более чем на 10%\")\n",
    "else:\n",
    "    print(\"Тест не достиг порога успеха\")"
   ]
  },
  {
   "cell_type": "markdown",
   "id": "afa422dc",
   "metadata": {},
   "source": [
    "6. Анализа платформ:"
   ]
  },
  {
   "cell_type": "code",
   "execution_count": 11,
   "id": "02e5b3dd-5db9-49a2-960c-adbe7d51a2a4",
   "metadata": {},
   "outputs": [
    {
     "name": "stdout",
     "output_type": "stream",
     "text": [
      "--- PC ---\n",
      "ARPU Test: 815.2389197253059, ARPU Control: 715.5232152584013\n",
      "ARPPU Test: 938.0092488265162, ARPPU Control: 828.1982008788126\n",
      "CI ARPU Test: (815.2389197253059, 813.5826687254403, 816.8951707251715), CI ARPU Control: (715.5232152584013, 713.9839989817191, 717.0624315350834)\n",
      "CI ARPPU Test: (938.0092488265162, 936.1987016143861, 939.8197960386464), CI ARPPU Control: (828.1982008788126, 826.4994308748488, 829.8969708827764)\n",
      "\n",
      "--- PS4 ---\n",
      "ARPU Test: 766.3116587241869, ARPU Control: 710.2420204778537\n",
      "ARPPU Test: 874.3658893924446, ARPPU Control: 819.2025316151195\n",
      "CI ARPU Test: (766.3116587241869, 765.252294073377, 767.3710233749969), CI ARPU Control: (710.2420204778537, 709.2479828515418, 711.2360581041655)\n",
      "CI ARPPU Test: (874.3658893924446, 873.2830513180965, 875.4487274667928), CI ARPPU Control: (819.2025316151195, 818.1829259048789, 820.2221373253601)\n",
      "\n",
      "--- Xbox ---\n",
      "ARPU Test: nan, ARPU Control: nan\n",
      "ARPPU Test: nan, ARPPU Control: nan\n",
      "CI ARPU Test: (nan, nan, nan), CI ARPU Control: (nan, nan, nan)\n",
      "CI ARPPU Test: (nan, nan, nan), CI ARPPU Control: (nan, nan, nan)\n",
      "\n"
     ]
    },
    {
     "name": "stderr",
     "output_type": "stream",
     "text": [
      "C:\\Users\\ADMIN\\anaconda3\\Lib\\site-packages\\numpy\\core\\_methods.py:206: RuntimeWarning: Degrees of freedom <= 0 for slice\n",
      "  ret = _var(a, axis=axis, dtype=dtype, out=out, ddof=ddof,\n",
      "C:\\Users\\ADMIN\\anaconda3\\Lib\\site-packages\\numpy\\core\\_methods.py:163: RuntimeWarning: invalid value encountered in divide\n",
      "  arrmean = um.true_divide(arrmean, div, out=arrmean,\n",
      "C:\\Users\\ADMIN\\anaconda3\\Lib\\site-packages\\numpy\\core\\_methods.py:198: RuntimeWarning: invalid value encountered in scalar divide\n",
      "  ret = ret.dtype.type(ret / rcount)\n"
     ]
    }
   ],
   "source": [
    "# Подготовка функций для расчета доверительных интервалов и метрик\n",
    "def confidence_interval(data, confidence=0.95):\n",
    "    n = len(data)\n",
    "    mean = np.mean(data)\n",
    "    std_err = stats.sem(data)\n",
    "    h = std_err * stats.t.ppf((1 + confidence) / 2., n - 1)\n",
    "    return mean, mean - h, mean + h\n",
    "\n",
    "# Платформы для анализа\n",
    "platforms = ['PC', 'PS4', 'Xbox']\n",
    "\n",
    "# Подготовка структуры для хранения результатов\n",
    "results = {}\n",
    "\n",
    "# Анализ по каждой платформе\n",
    "for platform in platforms:\n",
    "    print(f\"--- {platform} ---\")\n",
    "    \n",
    "    # Данные для платформы\n",
    "    platform_data = df[df['platform'] == platform]\n",
    "    \n",
    "    # ARPU\n",
    "    arpu_test = platform_data[platform_data['group'] == 'test']['cash'].mean()\n",
    "    arpu_control = platform_data[platform_data['group'] == 'control']['cash'].mean()\n",
    "    \n",
    "    # ARPPU (только платящие пользователи)\n",
    "    arppu_test = platform_data[(platform_data['group'] == 'test') & (platform_data['cash'] > 0)]['cash'].mean()\n",
    "    arppu_control = platform_data[(platform_data['group'] == 'control') & (platform_data['cash'] > 0)]['cash'].mean()\n",
    "    \n",
    "    # Доверительные интервалы для ARPU\n",
    "    ci_arpu_test = confidence_interval(platform_data[platform_data['group'] == 'test']['cash'])\n",
    "    ci_arpu_control = confidence_interval(platform_data[platform_data['group'] == 'control']['cash'])\n",
    "    \n",
    "    # Доверительные интервалы для ARPPU\n",
    "    ci_arppu_test = confidence_interval(platform_data[(platform_data['group'] == 'test') & (platform_data['cash'] > 0)]['cash'])\n",
    "    ci_arppu_control = confidence_interval(platform_data[(platform_data['group'] == 'control') & (platform_data['cash'] > 0)]['cash'])\n",
    "    \n",
    "    # Сохранение результатов\n",
    "    results[platform] = {\n",
    "        'ARPU_test': arpu_test, 'ARPU_control': arpu_control,\n",
    "        'ARPPU_test': arppu_test, 'ARPPU_control': arppu_control,\n",
    "        'CI_ARPU_test': ci_arpu_test, 'CI_ARPU_control': ci_arpu_control,\n",
    "        'CI_ARPPU_test': ci_arppu_test, 'CI_ARPPU_control': ci_arppu_control\n",
    "    }\n",
    "    \n",
    "    # Вывод результатов для платформы\n",
    "    print(f\"ARPU Test: {arpu_test}, ARPU Control: {arpu_control}\")\n",
    "    print(f\"ARPPU Test: {arppu_test}, ARPPU Control: {arppu_control}\")\n",
    "    print(f\"CI ARPU Test: {ci_arpu_test}, CI ARPU Control: {ci_arpu_control}\")\n",
    "    print(f\"CI ARPPU Test: {ci_arppu_test}, CI ARPPU Control: {ci_arppu_control}\")\n",
    "    print()\n"
   ]
  },
  {
   "cell_type": "code",
   "execution_count": 20,
   "id": "ff0c2db5",
   "metadata": {},
   "outputs": [
    {
     "data": {
      "image/png": "[encoded data removed]",
      "text/plain": [
       "<Figure size 1200x800 with 4 Axes>"
      ]
     },
     "metadata": {},
     "output_type": "display_data"
    }
   ],
   "source": [
    "# Динамическое создание списка платформ с ненулевыми данными\n",
    "valid_platforms = [platform for platform in platforms \n",
    "                   if not (np.isnan(results[platform]['ARPU_test']) or \n",
    "                           np.isnan(results[platform]['ARPU_control']) or \n",
    "                           np.isnan(results[platform]['ARPPU_test']) or \n",
    "                           np.isnan(results[platform]['ARPPU_control']))]\n",
    "\n",
    "# Создаем фигуру и субплоты динамически в зависимости от количества валидных платформ\n",
    "fig, axs = plt.subplots(len(valid_platforms), 2, figsize=(12, len(valid_platforms) * 4))\n",
    "\n",
    "# Если только одна платформа, axs будет одномерным массивом, а не двумерным\n",
    "if len(valid_platforms) == 1:\n",
    "    axs = [axs]\n",
    "\n",
    "for i, platform in enumerate(valid_platforms):\n",
    "    # ARPU график\n",
    "    axs[i][0].bar(['Test', 'Control'], \n",
    "                  [results[platform]['ARPU_test'], results[platform]['ARPU_control']], \n",
    "                  yerr=[(results[platform]['CI_ARPU_test'][2] - results[platform]['ARPU_test'], \n",
    "                         results[platform]['ARPU_test'] - results[platform]['CI_ARPU_test'][1]), \n",
    "                        (results[platform]['CI_ARPU_control'][2] - results[platform]['ARPU_control'], \n",
    "                         results[platform]['ARPU_control'] - results[platform]['CI_ARPU_control'][1])],\n",
    "                  capsize=10)\n",
    "    axs[i][0].set_title(f\"ARPU: {platform}\")\n",
    "    \n",
    "    # ARPPU график\n",
    "    axs[i][1].bar(['Test', 'Control'], \n",
    "                  [results[platform]['ARPPU_test'], results[platform]['ARPPU_control']], \n",
    "                  yerr=[(results[platform]['CI_ARPPU_test'][2] - results[platform]['ARPPU_test'], \n",
    "                         results[platform]['ARPPU_test'] - results[platform]['CI_ARPPU_test'][1]), \n",
    "                        (results[platform]['CI_ARPPU_control'][2] - results[platform]['ARPPU_control'], \n",
    "                         results[platform]['ARPPU_control'] - results[platform]['CI_ARPPU_control'][1])],\n",
    "                  capsize=10)\n",
    "    axs[i][1].set_title(f\"ARPPU: {platform}\")\n",
    "\n",
    "plt.tight_layout()\n",
    "plt.show()"
   ]
  },
  {
   "cell_type": "markdown",
   "id": "bccefd01",
   "metadata": {},
   "source": [
    "1. ARPU (средняя прибыль на игрока):\n",
    "\n",
    "Среднее значение ARPU для тестовой группы: отражает, сколько в среднем каждый игрок в тестовой группе приносил прибыли.\n",
    "\n",
    "Среднее значение ARPU для контрольной группы: показывает среднюю прибыль от игроков, не участвовавших в акции.\n",
    "Если значения ARPU в тестовой группе выше, чем в контрольной группе, это может указывать на то, что акция повлияла на увеличение прибыли с каждого игрока.\n",
    "\n",
    "Вывод по ARPU:\n",
    "\n",
    "Для платформы PC: Значение ARPU в тестовой группе выше, чем в контрольной, что может свидетельствовать о положительном эффекте акции.\n",
    "\n",
    "Для платформы PS4: Значения ARPU для обеих групп схожи, доверительные интервалы перекрываются, что говорит о том, что эффект акции незначителен.\n",
    "\n",
    "Для платформы Xbox: Так как значения отсутствуют (NaN), данные для этой платформы не позволяют сделать вывод о влиянии акции.\n",
    "\n",
    "2. ARPPU (средняя прибыль на платящего игрока):\n",
    "\n",
    "Среднее значение ARPPU для тестовой группы: показывает, сколько в среднем приносил каждый платящий игрок в тестовой группе.\n",
    "\n",
    "Среднее значение ARPPU для контрольной группы: показывает аналогичную прибыль среди платящих игроков контрольной группы.\n",
    "\n",
    "Если ARPPU в тестовой группе больше, это может говорить о том, что акция увеличила траты на одного платящего игрока.\n",
    "\n",
    "Вывод по ARPPU:\n",
    "\n",
    "Для платформы PC: ARPPU в тестовой группе выше, чем в контрольной, что может свидетельствовать о том, что акция повлияла на увеличение среднего чека у платящих игроков.\n",
    "\n",
    "Для платформы PS4: Доверительные интервалы пересекаются, что говорит о том, что статистически значимых различий между группами нет.\n",
    "\n",
    "Для платформы Xbox: Поскольку данные не предоставлены (NaN), для этой платформы выводы невозможны.\n",
    "\n",
    "3. Пересечение доверительных интервалов:\n",
    "\n",
    "Если доверительные интервалы для ARPU и ARPPU не пересекаются, это указывает на наличие статистически значимых различий между тестовой и контрольной группами, что позволяет утверждать, что акция действительно оказала влияние на доходы игроков.\n",
    "\n",
    "Если доверительные интервалы пересекаются, это может означать, что результаты случайны, и акция не оказала значительного влияния на доходы.\n",
    "\n",
    "4. Результаты по платформам:\n",
    "\n",
    "PC: Акция была успешной — увеличение метрик ARPU и ARPPU без пересечения доверительных интервалов. Следует рассмотреть возможность проведения аналогичных акций в будущем для этой платформы.\n",
    "\n",
    "PS4: Результаты незначительны, доверительные интервалы пересекаются, что означает отсутствие явных преимуществ акции. Возможно, стоит пересмотреть подход к акции для этой платформы.\n",
    "\n",
    "Xbox: Из-за отсутствия данных для Xbox (NaN) невозможно сделать выводы.\n",
    "\n",
    "Заключение:\n",
    "\n",
    "PC — успешная акция, значительное увеличение доходов на игрока и платящего игрока.\n",
    "\n",
    "PS4 — незначительное влияние, результаты акции не были статистически значимыми.\n"
   ]
  },
  {
   "cell_type": "code",
   "execution_count": null,
   "id": "e1bd42dc",
   "metadata": {},
   "outputs": [],
   "source": []
  }
 ],
 "metadata": {
  "kernelspec": {
   "display_name": "Python 3 (ipykernel)",
   "language": "python",
   "name": "python3"
  },
  "language_info": {
   "codemirror_mode": {
    "name": "ipython",
    "version": 3
   },
   "file_extension": ".py",
   "mimetype": "text/x-python",
   "name": "python",
   "nbconvert_exporter": "python",
   "pygments_lexer": "ipython3",
   "version": "3.11.7"
  }
 },
 "nbformat": 4,
 "nbformat_minor": 5
}
